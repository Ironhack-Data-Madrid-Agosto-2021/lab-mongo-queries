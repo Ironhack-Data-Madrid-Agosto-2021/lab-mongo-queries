{
 "cells": [
  {
   "cell_type": "markdown",
   "metadata": {},
   "source": [
    "# Advanced Querying Mongo"
   ]
  },
  {
   "cell_type": "markdown",
   "metadata": {},
   "source": [
    "Importing libraries and setting up connection"
   ]
  },
  {
   "cell_type": "code",
   "execution_count": 1,
   "metadata": {},
   "outputs": [],
   "source": [
    "from pymongo import MongoClient\n",
    "client = MongoClient(\"mongodb://localhost/companies\") #conexión con el servidor\n",
    "client.list_database_names() # Databases en en MongoDB Compass (globales)\n",
    "db = client.get_database(\"companies\")# Conexión especifica con la base de datos que vamos a trabajar "
   ]
  },
  {
   "cell_type": "code",
   "execution_count": 2,
   "metadata": {},
   "outputs": [
    {
     "data": {
      "text/plain": [
       "['lab']"
      ]
     },
     "execution_count": 2,
     "metadata": {},
     "output_type": "execute_result"
    }
   ],
   "source": [
    "db.list_collection_names() # Te da las pequeñas bases de datos"
   ]
  },
  {
   "cell_type": "code",
   "execution_count": 3,
   "metadata": {},
   "outputs": [
    {
     "data": {
      "text/plain": [
       "[{'name': 'lab',\n",
       "  'type': 'collection',\n",
       "  'options': {},\n",
       "  'info': {'readOnly': False,\n",
       "   'uuid': UUID('69dbb9b1-8b5f-488b-9503-5153b88e3cdb')},\n",
       "  'idIndex': {'v': 2, 'key': {'_id': 1}, 'name': '_id_'}}]"
      ]
     },
     "execution_count": 3,
     "metadata": {},
     "output_type": "execute_result"
    }
   ],
   "source": [
    "list(db.list_collections())"
   ]
  },
  {
   "cell_type": "code",
   "execution_count": 4,
   "metadata": {},
   "outputs": [],
   "source": [
    "collection = db.get_collection(\"lab\") #guarda en la variable collection la database especifica con la que trabajar"
   ]
  },
  {
   "cell_type": "code",
   "execution_count": 5,
   "metadata": {},
   "outputs": [
    {
     "data": {
      "text/plain": [
       "['_id',\n",
       " 'name',\n",
       " 'permalink',\n",
       " 'crunchbase_url',\n",
       " 'homepage_url',\n",
       " 'blog_url',\n",
       " 'blog_feed_url',\n",
       " 'twitter_username',\n",
       " 'category_code',\n",
       " 'number_of_employees',\n",
       " 'founded_year',\n",
       " 'founded_month',\n",
       " 'founded_day',\n",
       " 'deadpooled_year',\n",
       " 'tag_list',\n",
       " 'alias_list',\n",
       " 'email_address',\n",
       " 'phone_number',\n",
       " 'description',\n",
       " 'created_at',\n",
       " 'updated_at',\n",
       " 'overview',\n",
       " 'image',\n",
       " 'products',\n",
       " 'relationships',\n",
       " 'competitions',\n",
       " 'providerships',\n",
       " 'total_money_raised',\n",
       " 'funding_rounds',\n",
       " 'investments',\n",
       " 'acquisition',\n",
       " 'acquisitions',\n",
       " 'offices',\n",
       " 'milestones',\n",
       " 'video_embeds',\n",
       " 'screenshots',\n",
       " 'external_links',\n",
       " 'partners']"
      ]
     },
     "execution_count": 5,
     "metadata": {},
     "output_type": "execute_result"
    }
   ],
   "source": [
    "list(collection.find_one())"
   ]
  },
  {
   "cell_type": "markdown",
   "metadata": {},
   "source": [
    "### 1. All the companies whose name match 'Babelgum'. Retrieve only their `name` field."
   ]
  },
  {
   "cell_type": "code",
   "execution_count": 6,
   "metadata": {},
   "outputs": [
    {
     "data": {
      "text/plain": [
       "[{'name': 'Babelgum'}]"
      ]
     },
     "execution_count": 6,
     "metadata": {},
     "output_type": "execute_result"
    }
   ],
   "source": [
    "list(collection.find({\"name\": \"Babelgum\"}, {\"name\":1, \"_id\":0}))\n"
   ]
  },
  {
   "cell_type": "markdown",
   "metadata": {},
   "source": [
    "### 2. All the companies that have more than 5000 employees. Limit the search to 20 companies and sort them by **number of employees**."
   ]
  },
  {
   "cell_type": "code",
   "execution_count": 7,
   "metadata": {},
   "outputs": [],
   "source": [
    "var2 = ({'number_of_employees':{\"$gt\":2000}})"
   ]
  },
  {
   "cell_type": "code",
   "execution_count": 8,
   "metadata": {},
   "outputs": [],
   "source": [
    "q2 = collection.find(var2).limit(20).sort('number_of_employees',1)"
   ]
  },
  {
   "cell_type": "code",
   "execution_count": 9,
   "metadata": {},
   "outputs": [
    {
     "data": {
      "text/plain": [
       "20"
      ]
     },
     "execution_count": 9,
     "metadata": {},
     "output_type": "execute_result"
    }
   ],
   "source": [
    "len(list(q2))"
   ]
  },
  {
   "cell_type": "markdown",
   "metadata": {},
   "source": [
    "### 3. All the companies founded between 2000 and 2005, both years included. Retrieve only the `name` and `founded_year` fields."
   ]
  },
  {
   "cell_type": "code",
   "execution_count": 10,
   "metadata": {},
   "outputs": [],
   "source": [
    "proy3 = {\"name\":1,\"founded_year\":1,\"_id\":0 }"
   ]
  },
  {
   "cell_type": "code",
   "execution_count": 11,
   "metadata": {},
   "outputs": [],
   "source": [
    "var3 = {\"founded_year\": {\"$in\": [2000, 2001, 2002, 2003, 2004, 2005]}}"
   ]
  },
  {
   "cell_type": "code",
   "execution_count": 12,
   "metadata": {},
   "outputs": [
    {
     "data": {
      "text/plain": [
       "[{'name': 'Wetpaint', 'founded_year': 2005},\n",
       " {'name': 'Zoho', 'founded_year': 2005}]"
      ]
     },
     "execution_count": 12,
     "metadata": {},
     "output_type": "execute_result"
    }
   ],
   "source": [
    "list(collection.find(var3,proy3).limit(2))"
   ]
  },
  {
   "cell_type": "markdown",
   "metadata": {},
   "source": [
    "### 4. All the companies that had a Valuation Amount of more than 100.000.000 and have been founded before 2010. Retrieve only the `name` and `ipo` fields."
   ]
  },
  {
   "cell_type": "code",
   "execution_count": 13,
   "metadata": {},
   "outputs": [],
   "source": [
    "proy4 = {\"name\":1, \"ipo\":1, \"_id\":0}"
   ]
  },
  {
   "cell_type": "code",
   "execution_count": 14,
   "metadata": {},
   "outputs": [],
   "source": [
    "var4 = {\"ipo.valuation_amount\":{\"$gt\":100000000}}"
   ]
  },
  {
   "cell_type": "code",
   "execution_count": 15,
   "metadata": {},
   "outputs": [],
   "source": [
    "var41 = {\"founded_year\": {\"$lt\": 2010}}"
   ]
  },
  {
   "cell_type": "code",
   "execution_count": 16,
   "metadata": {},
   "outputs": [],
   "source": [
    "r4 = list(collection.find({\"$and\": [var4,var41]},proy4).limit(2))"
   ]
  },
  {
   "cell_type": "code",
   "execution_count": 17,
   "metadata": {},
   "outputs": [
    {
     "data": {
      "text/plain": [
       "[{'name': 'Facebook',\n",
       "  'ipo': {'valuation_amount': 104000000000,\n",
       "   'valuation_currency_code': 'USD',\n",
       "   'pub_year': 2012,\n",
       "   'pub_month': 5,\n",
       "   'pub_day': 18,\n",
       "   'stock_symbol': 'NASDAQ:FB'}},\n",
       " {'name': 'Twitter',\n",
       "  'ipo': {'valuation_amount': 18100000000,\n",
       "   'valuation_currency_code': 'USD',\n",
       "   'pub_year': 2013,\n",
       "   'pub_month': 11,\n",
       "   'pub_day': 7,\n",
       "   'stock_symbol': 'NYSE:TWTR'}}]"
      ]
     },
     "execution_count": 17,
     "metadata": {},
     "output_type": "execute_result"
    }
   ],
   "source": [
    "r4"
   ]
  },
  {
   "cell_type": "markdown",
   "metadata": {},
   "source": [
    "### 5. All the companies that have less than 1000 employees and have been founded before 2005. Order them by the number of employees and limit the search to 10 companies."
   ]
  },
  {
   "cell_type": "code",
   "execution_count": 18,
   "metadata": {},
   "outputs": [],
   "source": [
    "var5 = {'number_of_employees':{\"$lt\":1000}}"
   ]
  },
  {
   "cell_type": "code",
   "execution_count": 19,
   "metadata": {},
   "outputs": [],
   "source": [
    "var51 = {\"founded_year\": {\"$lt\": 2005}}"
   ]
  },
  {
   "cell_type": "code",
   "execution_count": 20,
   "metadata": {},
   "outputs": [],
   "source": [
    "proy5 = {'number_of_employees':-1, \"_id\":0, \"name\":1}"
   ]
  },
  {
   "cell_type": "code",
   "execution_count": 21,
   "metadata": {},
   "outputs": [],
   "source": [
    "r5 = list(collection.find({\"$and\": [var5, var51]},proy5).limit(10))"
   ]
  },
  {
   "cell_type": "code",
   "execution_count": 22,
   "metadata": {},
   "outputs": [
    {
     "data": {
      "text/plain": [
       "[{'name': 'AdventNet', 'number_of_employees': 600},\n",
       " {'name': 'Digg', 'number_of_employees': 60},\n",
       " {'name': 'Fox Interactive Media', 'number_of_employees': 0},\n",
       " {'name': 'Plaxo', 'number_of_employees': 50},\n",
       " {'name': 'Technorati', 'number_of_employees': 35},\n",
       " {'name': 'AddThis', 'number_of_employees': 120},\n",
       " {'name': 'Meetup', 'number_of_employees': 75},\n",
       " {'name': 'SmugMug', 'number_of_employees': 62},\n",
       " {'name': 'Skype', 'number_of_employees': 0},\n",
       " {'name': 'Pando Networks', 'number_of_employees': 23}]"
      ]
     },
     "execution_count": 22,
     "metadata": {},
     "output_type": "execute_result"
    }
   ],
   "source": [
    "r5"
   ]
  },
  {
   "cell_type": "markdown",
   "metadata": {},
   "source": [
    "### 6. All the companies that don't include the `partners` field."
   ]
  },
  {
   "cell_type": "code",
   "execution_count": 23,
   "metadata": {},
   "outputs": [
    {
     "data": {
      "text/plain": [
       "[]"
      ]
     },
     "execution_count": 23,
     "metadata": {},
     "output_type": "execute_result"
    }
   ],
   "source": [
    "list(collection.find({\"partners\":{\"$exists\": False}}))"
   ]
  },
  {
   "cell_type": "markdown",
   "metadata": {},
   "source": [
    "### 7. All the companies that have a null type of value on the `category_code` field."
   ]
  },
  {
   "cell_type": "code",
   "execution_count": 24,
   "metadata": {},
   "outputs": [],
   "source": [
    "var7 = {\"category_code\": {\"$type\": \"null\" }}"
   ]
  },
  {
   "cell_type": "code",
   "execution_count": 25,
   "metadata": {},
   "outputs": [],
   "source": [
    "r7 = list(collection.find(var7).limit(1))"
   ]
  },
  {
   "cell_type": "code",
   "execution_count": 26,
   "metadata": {},
   "outputs": [
    {
     "data": {
      "text/plain": [
       "[{'_id': ObjectId('52cdef7c4bab8bd6752980f6'),\n",
       "  'name': 'Collective',\n",
       "  'permalink': 'collective',\n",
       "  'crunchbase_url': 'http://www.crunchbase.com/company/collective',\n",
       "  'homepage_url': None,\n",
       "  'blog_url': None,\n",
       "  'blog_feed_url': None,\n",
       "  'twitter_username': None,\n",
       "  'category_code': None,\n",
       "  'number_of_employees': None,\n",
       "  'founded_year': None,\n",
       "  'founded_month': None,\n",
       "  'founded_day': None,\n",
       "  'deadpooled_year': None,\n",
       "  'deadpooled_month': None,\n",
       "  'deadpooled_day': None,\n",
       "  'deadpooled_url': None,\n",
       "  'tag_list': None,\n",
       "  'alias_list': None,\n",
       "  'email_address': None,\n",
       "  'phone_number': None,\n",
       "  'description': None,\n",
       "  'created_at': 'Thu Sep 26 13:15:02 UTC 2013',\n",
       "  'updated_at': 'Thu Sep 26 13:15:02 UTC 2013',\n",
       "  'overview': None,\n",
       "  'image': None,\n",
       "  'products': [],\n",
       "  'relationships': [],\n",
       "  'competitions': [],\n",
       "  'providerships': [],\n",
       "  'total_money_raised': '$0',\n",
       "  'funding_rounds': [],\n",
       "  'investments': [],\n",
       "  'acquisition': None,\n",
       "  'acquisitions': [],\n",
       "  'offices': [],\n",
       "  'milestones': [],\n",
       "  'ipo': None,\n",
       "  'video_embeds': [],\n",
       "  'screenshots': [],\n",
       "  'external_links': [],\n",
       "  'partners': []}]"
      ]
     },
     "execution_count": 26,
     "metadata": {},
     "output_type": "execute_result"
    }
   ],
   "source": [
    "r7"
   ]
  },
  {
   "cell_type": "markdown",
   "metadata": {},
   "source": [
    "### 8. All the companies that have at least 100 employees but less than 1000. Retrieve only the `name` and `number of employees` fields."
   ]
  },
  {
   "cell_type": "code",
   "execution_count": 27,
   "metadata": {},
   "outputs": [],
   "source": [
    "var8 = {\"$and\": [{'number_of_employees': {\"$gt\": 100}}, {'number_of_employees':  {\"$lt\": 1000}}]}"
   ]
  },
  {
   "cell_type": "code",
   "execution_count": 28,
   "metadata": {},
   "outputs": [],
   "source": [
    "proy8 = {'number_of_employees':1, \"_id\":0, \"name\":1}"
   ]
  },
  {
   "cell_type": "code",
   "execution_count": 29,
   "metadata": {},
   "outputs": [],
   "source": [
    "r8 = list(collection.find(var8,proy8).limit(2))"
   ]
  },
  {
   "cell_type": "code",
   "execution_count": 30,
   "metadata": {},
   "outputs": [
    {
     "data": {
      "text/plain": [
       "[{'name': 'AdventNet', 'number_of_employees': 600},\n",
       " {'name': 'AddThis', 'number_of_employees': 120}]"
      ]
     },
     "execution_count": 30,
     "metadata": {},
     "output_type": "execute_result"
    }
   ],
   "source": [
    "r8"
   ]
  },
  {
   "cell_type": "markdown",
   "metadata": {},
   "source": [
    "### 9. Order all the companies by their IPO price in a descending order."
   ]
  },
  {
   "cell_type": "code",
   "execution_count": 31,
   "metadata": {},
   "outputs": [],
   "source": [
    "var9 = {\"ipo.valuation_amount\": {\"$gt\": 0}}"
   ]
  },
  {
   "cell_type": "code",
   "execution_count": 32,
   "metadata": {},
   "outputs": [],
   "source": [
    "proy9 = {\"ipo.valuation_amount\":1, \"name\":1,\"_id\":0 }"
   ]
  },
  {
   "cell_type": "code",
   "execution_count": 33,
   "metadata": {},
   "outputs": [],
   "source": [
    "r9 = list(collection.find(var9,proy9).sort(\"ipo.valuation_amount\",-1).limit(2))"
   ]
  },
  {
   "cell_type": "code",
   "execution_count": 34,
   "metadata": {},
   "outputs": [
    {
     "data": {
      "text/plain": [
       "[{'name': 'GREE', 'ipo': {'valuation_amount': 108960000000}},\n",
       " {'name': 'Facebook', 'ipo': {'valuation_amount': 104000000000}}]"
      ]
     },
     "execution_count": 34,
     "metadata": {},
     "output_type": "execute_result"
    }
   ],
   "source": [
    "r9"
   ]
  },
  {
   "cell_type": "markdown",
   "metadata": {},
   "source": [
    "### 10. Retrieve the 10 companies with more employees, order by the `number of employees`"
   ]
  },
  {
   "cell_type": "code",
   "execution_count": 35,
   "metadata": {},
   "outputs": [],
   "source": [
    "var10 = ({'number_of_employees':{\"$exists\":True}})"
   ]
  },
  {
   "cell_type": "code",
   "execution_count": 36,
   "metadata": {},
   "outputs": [],
   "source": [
    "r10 = list(collection.find(var10,{'number_of_employees':1, \"name\":1,\"_id\":0 }).sort('number_of_employees', -1).limit(2))"
   ]
  },
  {
   "cell_type": "code",
   "execution_count": 37,
   "metadata": {},
   "outputs": [
    {
     "data": {
      "text/plain": [
       "[{'name': 'Siemens', 'number_of_employees': 405000},\n",
       " {'name': 'IBM', 'number_of_employees': 388000}]"
      ]
     },
     "execution_count": 37,
     "metadata": {},
     "output_type": "execute_result"
    }
   ],
   "source": [
    "r10"
   ]
  },
  {
   "cell_type": "markdown",
   "metadata": {},
   "source": [
    "### 11. All the companies founded on the second semester of the year. Limit your search to 1000 companies."
   ]
  },
  {
   "cell_type": "code",
   "execution_count": 38,
   "metadata": {},
   "outputs": [],
   "source": [
    "var11 = {'founded_month': {\"$in\": [7,8,9,10,11,12]}}"
   ]
  },
  {
   "cell_type": "code",
   "execution_count": 39,
   "metadata": {},
   "outputs": [],
   "source": [
    "r11 = list(collection.find(var11).limit(1))"
   ]
  },
  {
   "cell_type": "code",
   "execution_count": 40,
   "metadata": {},
   "outputs": [
    {
     "data": {
      "text/plain": [
       "[{'_id': ObjectId('52cdef7c4bab8bd675297d8a'),\n",
       "  'name': 'Wetpaint',\n",
       "  'permalink': 'abc2',\n",
       "  'crunchbase_url': 'http://www.crunchbase.com/company/wetpaint',\n",
       "  'homepage_url': 'http://wetpaint-inc.com',\n",
       "  'blog_url': 'http://digitalquarters.net/',\n",
       "  'blog_feed_url': 'http://digitalquarters.net/feed/',\n",
       "  'twitter_username': 'BachelrWetpaint',\n",
       "  'category_code': 'web',\n",
       "  'number_of_employees': 47,\n",
       "  'founded_year': 2005,\n",
       "  'founded_month': 10,\n",
       "  'founded_day': 17,\n",
       "  'deadpooled_year': 1,\n",
       "  'tag_list': 'wiki, seattle, elowitz, media-industry, media-platform, social-distribution-system',\n",
       "  'alias_list': '',\n",
       "  'email_address': 'info@wetpaint.com',\n",
       "  'phone_number': '206.859.6300',\n",
       "  'description': 'Technology Platform Company',\n",
       "  'created_at': datetime.datetime(2007, 5, 25, 6, 51, 27),\n",
       "  'updated_at': 'Sun Dec 08 07:15:44 UTC 2013',\n",
       "  'overview': '<p>Wetpaint is a technology platform company that uses its proprietary state-of-the-art technology and expertise in social media to build and monetize audiences for digital publishers. Wetpaint’s own online property, Wetpaint Entertainment, an entertainment news site that attracts more than 12 million unique visitors monthly and has over 2 million Facebook fans, is a proof point to the company’s success in building and engaging audiences. Media companies can license Wetpaint’s platform which includes a dynamic playbook tailored to their individual needs and comprehensive training. Founded by Internet pioneer Ben Elowitz, and with offices in New York and Seattle, Wetpaint is backed by Accel Partners, the investors behind Facebook.</p>',\n",
       "  'image': {'available_sizes': [[[150, 75],\n",
       "     'assets/images/resized/0000/3604/3604v14-max-150x150.jpg'],\n",
       "    [[250, 125], 'assets/images/resized/0000/3604/3604v14-max-250x250.jpg'],\n",
       "    [[450, 225], 'assets/images/resized/0000/3604/3604v14-max-450x450.jpg']]},\n",
       "  'products': [{'name': 'Wikison Wetpaint', 'permalink': 'wetpaint-wiki'},\n",
       "   {'name': 'Wetpaint Social Distribution System',\n",
       "    'permalink': 'wetpaint-social-distribution-system'}],\n",
       "  'relationships': [{'is_past': False,\n",
       "    'title': 'Co-Founder and VP, Social and Audience Development',\n",
       "    'person': {'first_name': 'Michael',\n",
       "     'last_name': 'Howell',\n",
       "     'permalink': 'michael-howell'}},\n",
       "   {'is_past': False,\n",
       "    'title': 'Co-Founder/CEO/Board of Directors',\n",
       "    'person': {'first_name': 'Ben',\n",
       "     'last_name': 'Elowitz',\n",
       "     'permalink': 'ben-elowitz'}},\n",
       "   {'is_past': False,\n",
       "    'title': 'COO/Board of Directors',\n",
       "    'person': {'first_name': 'Rob',\n",
       "     'last_name': 'Grady',\n",
       "     'permalink': 'rob-grady'}},\n",
       "   {'is_past': False,\n",
       "    'title': 'SVP, Strategy and Business Development',\n",
       "    'person': {'first_name': 'Chris',\n",
       "     'last_name': 'Kollas',\n",
       "     'permalink': 'chris-kollas'}},\n",
       "   {'is_past': False,\n",
       "    'title': 'Board',\n",
       "    'person': {'first_name': 'Theresia',\n",
       "     'last_name': 'Ranzetta',\n",
       "     'permalink': 'theresia-ranzetta'}},\n",
       "   {'is_past': False,\n",
       "    'title': 'Board Member',\n",
       "    'person': {'first_name': 'Gus',\n",
       "     'last_name': 'Tai',\n",
       "     'permalink': 'gus-tai'}},\n",
       "   {'is_past': False,\n",
       "    'title': 'Board',\n",
       "    'person': {'first_name': 'Len',\n",
       "     'last_name': 'Jordan',\n",
       "     'permalink': 'len-jordan'}},\n",
       "   {'is_past': False,\n",
       "    'title': 'Head of Technology and Product',\n",
       "    'person': {'first_name': 'Alex',\n",
       "     'last_name': 'Weinstein',\n",
       "     'permalink': 'alex-weinstein'}},\n",
       "   {'is_past': True,\n",
       "    'title': 'CFO',\n",
       "    'person': {'first_name': 'Bert',\n",
       "     'last_name': 'Hogue',\n",
       "     'permalink': 'bert-hogue'}},\n",
       "   {'is_past': True,\n",
       "    'title': 'CFO/ CRO',\n",
       "    'person': {'first_name': 'Brian',\n",
       "     'last_name': 'Watkins',\n",
       "     'permalink': 'brian-watkins'}},\n",
       "   {'is_past': True,\n",
       "    'title': 'Senior Vice President, Marketing',\n",
       "    'person': {'first_name': 'Rob',\n",
       "     'last_name': 'Grady',\n",
       "     'permalink': 'rob-grady'}},\n",
       "   {'is_past': True,\n",
       "    'title': 'VP, Technology and Product',\n",
       "    'person': {'first_name': 'Werner',\n",
       "     'last_name': 'Koepf',\n",
       "     'permalink': 'werner-koepf'}},\n",
       "   {'is_past': True,\n",
       "    'title': 'VP Marketing',\n",
       "    'person': {'first_name': 'Kevin',\n",
       "     'last_name': 'Flaherty',\n",
       "     'permalink': 'kevin-flaherty'}},\n",
       "   {'is_past': True,\n",
       "    'title': 'VP User Experience',\n",
       "    'person': {'first_name': 'Alex',\n",
       "     'last_name': 'Berg',\n",
       "     'permalink': 'alex-berg'}},\n",
       "   {'is_past': True,\n",
       "    'title': 'VP Engineering',\n",
       "    'person': {'first_name': 'Steve',\n",
       "     'last_name': 'McQuade',\n",
       "     'permalink': 'steve-mcquade'}},\n",
       "   {'is_past': True,\n",
       "    'title': 'Executive Editor',\n",
       "    'person': {'first_name': 'Susan',\n",
       "     'last_name': 'Mulcahy',\n",
       "     'permalink': 'susan-mulcahy'}},\n",
       "   {'is_past': True,\n",
       "    'title': 'VP Business Development',\n",
       "    'person': {'first_name': 'Chris',\n",
       "     'last_name': 'Kollas',\n",
       "     'permalink': 'chris-kollas'}}],\n",
       "  'competitions': [{'competitor': {'name': 'Wikia', 'permalink': 'wikia'}},\n",
       "   {'competitor': {'name': 'JotSpot', 'permalink': 'jotspot'}},\n",
       "   {'competitor': {'name': 'Socialtext', 'permalink': 'socialtext'}},\n",
       "   {'competitor': {'name': 'Ning by Glam Media', 'permalink': 'ning'}},\n",
       "   {'competitor': {'name': 'Soceeo', 'permalink': 'soceeo'}},\n",
       "   {'competitor': {'name': 'Yola', 'permalink': 'yola'}},\n",
       "   {'competitor': {'name': 'SocialGO', 'permalink': 'socialgo'}},\n",
       "   {'competitor': {'name': 'IslamNor', 'permalink': 'islamnor'}}],\n",
       "  'providerships': [],\n",
       "  'total_money_raised': '$39.8M',\n",
       "  'funding_rounds': [{'id': 888,\n",
       "    'round_code': 'a',\n",
       "    'source_url': 'http://seattlepi.nwsource.com/business/246734_wiki02.html',\n",
       "    'source_description': '',\n",
       "    'raised_amount': 5250000,\n",
       "    'raised_currency_code': 'USD',\n",
       "    'funded_year': 2005,\n",
       "    'funded_month': 10,\n",
       "    'funded_day': 1,\n",
       "    'investments': [{'company': None,\n",
       "      'financial_org': {'name': 'Frazier Technology Ventures',\n",
       "       'permalink': 'frazier-technology-ventures'},\n",
       "      'person': None},\n",
       "     {'company': None,\n",
       "      'financial_org': {'name': 'Trinity Ventures',\n",
       "       'permalink': 'trinity-ventures'},\n",
       "      'person': None}]},\n",
       "   {'id': 889,\n",
       "    'round_code': 'b',\n",
       "    'source_url': 'http://pulse2.com/2007/01/09/wiki-builder-website-wetpaint-welcomes-95m-funding/',\n",
       "    'source_description': '',\n",
       "    'raised_amount': 9500000,\n",
       "    'raised_currency_code': 'USD',\n",
       "    'funded_year': 2007,\n",
       "    'funded_month': 1,\n",
       "    'funded_day': 1,\n",
       "    'investments': [{'company': None,\n",
       "      'financial_org': {'name': 'Accel Partners',\n",
       "       'permalink': 'accel-partners'},\n",
       "      'person': None},\n",
       "     {'company': None,\n",
       "      'financial_org': {'name': 'Frazier Technology Ventures',\n",
       "       'permalink': 'frazier-technology-ventures'},\n",
       "      'person': None},\n",
       "     {'company': None,\n",
       "      'financial_org': {'name': 'Trinity Ventures',\n",
       "       'permalink': 'trinity-ventures'},\n",
       "      'person': None}]},\n",
       "   {'id': 2312,\n",
       "    'round_code': 'c',\n",
       "    'source_url': 'http://www.accel.com/news/news_one_up.php?news_id=185',\n",
       "    'source_description': 'Accel',\n",
       "    'raised_amount': 25000000,\n",
       "    'raised_currency_code': 'USD',\n",
       "    'funded_year': 2008,\n",
       "    'funded_month': 5,\n",
       "    'funded_day': 19,\n",
       "    'investments': [{'company': None,\n",
       "      'financial_org': {'name': 'DAG Ventures', 'permalink': 'dag-ventures'},\n",
       "      'person': None},\n",
       "     {'company': None,\n",
       "      'financial_org': {'name': 'Accel Partners',\n",
       "       'permalink': 'accel-partners'},\n",
       "      'person': None},\n",
       "     {'company': None,\n",
       "      'financial_org': {'name': 'Trinity Ventures',\n",
       "       'permalink': 'trinity-ventures'},\n",
       "      'person': None},\n",
       "     {'company': None,\n",
       "      'financial_org': {'name': 'Frazier Technology Ventures',\n",
       "       'permalink': 'frazier-technology-ventures'},\n",
       "      'person': None}]}],\n",
       "  'investments': [],\n",
       "  'acquisition': {'price_amount': 30000000,\n",
       "   'price_currency_code': 'USD',\n",
       "   'term_code': 'cash_and_stock',\n",
       "   'source_url': 'http://allthingsd.com/20131216/viggle-tries-to-bulk-up-its-social-tv-business-by-buying-wetpaint/?mod=atdtweet',\n",
       "   'source_description': ' Viggle Tries to Bulk Up Its Social TV Business by Buying Wetpaint',\n",
       "   'acquired_year': 2013,\n",
       "   'acquired_month': 12,\n",
       "   'acquired_day': 16,\n",
       "   'acquiring_company': {'name': 'Viggle', 'permalink': 'viggle'}},\n",
       "  'acquisitions': [],\n",
       "  'offices': [{'description': '',\n",
       "    'address1': '710 - 2nd Avenue',\n",
       "    'address2': 'Suite 1100',\n",
       "    'zip_code': '98104',\n",
       "    'city': 'Seattle',\n",
       "    'state_code': 'WA',\n",
       "    'country_code': 'USA',\n",
       "    'latitude': 47.603122,\n",
       "    'longitude': -122.333253},\n",
       "   {'description': '',\n",
       "    'address1': '270 Lafayette Street',\n",
       "    'address2': 'Suite 505',\n",
       "    'zip_code': '10012',\n",
       "    'city': 'New York',\n",
       "    'state_code': 'NY',\n",
       "    'country_code': 'USA',\n",
       "    'latitude': 40.7237306,\n",
       "    'longitude': -73.9964312}],\n",
       "  'milestones': [{'id': 5869,\n",
       "    'description': \"Wetpaint named in Lead411's Hottest Seattle Companies list\",\n",
       "    'stoned_year': 2010,\n",
       "    'stoned_month': 6,\n",
       "    'stoned_day': 8,\n",
       "    'source_url': 'http://www.lead411.com/seattle-companies.html',\n",
       "    'source_text': None,\n",
       "    'source_description': 'LEAD411 LAUNCHES \"HOTTEST SEATTLE COMPANIES\" AWARDS',\n",
       "    'stoneable_type': 'Company',\n",
       "    'stoned_value': None,\n",
       "    'stoned_value_type': None,\n",
       "    'stoned_acquirer': None,\n",
       "    'stoneable': {'name': 'Wetpaint', 'permalink': 'wetpaint'}},\n",
       "   {'id': 8702,\n",
       "    'description': 'Site-Builder Wetpaint Makes One For Itself, Using the Demand Media Playbook',\n",
       "    'stoned_year': 2010,\n",
       "    'stoned_month': 9,\n",
       "    'stoned_day': 6,\n",
       "    'source_url': 'http://mediamemo.allthingsd.com/20100906/site-builder-wetpaint-makes-one-for-itself-using-the-demand-media-playbook/',\n",
       "    'source_text': None,\n",
       "    'source_description': 'All Things D',\n",
       "    'stoneable_type': 'Company',\n",
       "    'stoned_value': None,\n",
       "    'stoned_value_type': None,\n",
       "    'stoned_acquirer': None,\n",
       "    'stoneable': {'name': 'Wetpaint', 'permalink': 'wetpaint'}}],\n",
       "  'video_embeds': [],\n",
       "  'screenshots': [{'available_sizes': [[[150, 86],\n",
       "      'assets/images/resized/0016/0929/160929v2-max-150x150.png'],\n",
       "     [[250, 143], 'assets/images/resized/0016/0929/160929v2-max-250x250.png'],\n",
       "     [[450, 258], 'assets/images/resized/0016/0929/160929v2-max-450x450.png']],\n",
       "    'attribution': None}],\n",
       "  'external_links': [{'external_url': 'http://www.geekwire.com/2011/rewind-ben-elowitz-wetpaint-ceo-building-type-media-company',\n",
       "    'title': 'GeekWire interview: Rewind - Ben Elowitz, Wetpaint CEO, on building a new type of media company'},\n",
       "   {'external_url': 'http://techcrunch.com/2012/06/17/search-and-social-how-two-will-soon-become-one/',\n",
       "    'title': 'Guest post by CEO Ben Elowitz in TechCrunch'},\n",
       "   {'external_url': 'http://allthingsd.com/20120516/what-to-expect-when-facebook-is-expecting-five-predictions-for-facebooks-first-public-year/',\n",
       "    'title': 'Guest post by CEO Ben Elowitz in AllThingsD'},\n",
       "   {'external_url': 'http://adage.com/article/digitalnext/facebook-biggest-player-advertising-s-540-billion-world/235708/',\n",
       "    'title': 'Guest post by CEO Ben Elowitz in AdAge'},\n",
       "   {'external_url': 'http://www.businessinsider.com/facebook-captures-14-percent-of-our-online-attention-but-only-4-percent-of-ad-spending-online-2012-6',\n",
       "    'title': 'Guest post by CEO Ben Elowitz in Business Insider'},\n",
       "   {'external_url': 'http://allfacebook.com/wetpaint-media-data_b75963',\n",
       "    'title': 'AllFacebook coverage of Wetpaint'},\n",
       "   {'external_url': 'http://adage.com/article/digital/celeb-site-wetpaint-shows-media-profit-facebook/237828/',\n",
       "    'title': 'Profile of Wetpaint in Ad Age'},\n",
       "   {'external_url': 'http://allthingsd.com/20121018/how-to-boost-your-facebook-traffic-tips-and-tricks-from-wetpaint/',\n",
       "    'title': 'Interview with Wetpaint CEO Ben Elowitz in All Things D'},\n",
       "   {'external_url': 'http://www.xconomy.com/seattle/2012/10/19/wetpaint-starts-licensing-its-facebook-based-media-distribution-tech/',\n",
       "    'title': 'Profile of Wetpaint in Xconomy'}],\n",
       "  'partners': []}]"
      ]
     },
     "execution_count": 40,
     "metadata": {},
     "output_type": "execute_result"
    }
   ],
   "source": [
    "r11"
   ]
  },
  {
   "cell_type": "markdown",
   "metadata": {},
   "source": [
    "### 12. All the companies founded before 2000 that have an acquisition amount of more than 10.000.00"
   ]
  },
  {
   "cell_type": "code",
   "execution_count": 41,
   "metadata": {},
   "outputs": [],
   "source": [
    "var12 = {\"$and\": [{'founded_year': {\"$lt\": 2000}}, {'acquisition.price_amount': {\"$gt\": 1000000}}]}"
   ]
  },
  {
   "cell_type": "code",
   "execution_count": 42,
   "metadata": {},
   "outputs": [],
   "source": [
    "proy12 = {'acquisition.price_amount':1, \"name\":1,\"_id\":0 }"
   ]
  },
  {
   "cell_type": "code",
   "execution_count": 43,
   "metadata": {},
   "outputs": [],
   "source": [
    "r12 = list(collection.find(var12,proy12).limit(3))"
   ]
  },
  {
   "cell_type": "code",
   "execution_count": 44,
   "metadata": {},
   "outputs": [
    {
     "data": {
      "text/plain": [
       "[{'name': 'Postini', 'acquisition': {'price_amount': 625000000}},\n",
       " {'name': 'SideStep', 'acquisition': {'price_amount': 180000000}},\n",
       " {'name': 'Recipezaar', 'acquisition': {'price_amount': 25000000}}]"
      ]
     },
     "execution_count": 44,
     "metadata": {},
     "output_type": "execute_result"
    }
   ],
   "source": [
    "r12"
   ]
  },
  {
   "cell_type": "markdown",
   "metadata": {},
   "source": [
    "### 13. All the companies that have been acquired after 2010, order by the acquisition amount, and retrieve only their `name` and `acquisition` field."
   ]
  },
  {
   "cell_type": "code",
   "execution_count": 45,
   "metadata": {},
   "outputs": [
    {
     "ename": "SyntaxError",
     "evalue": "EOL while scanning string literal (1199560526.py, line 1)",
     "output_type": "error",
     "traceback": [
      "\u001b[0;36m  File \u001b[0;32m\"/var/folders/f9/ww50zmn51ylc9hycc8vysr9c0000gn/T/ipykernel_31499/1199560526.py\"\u001b[0;36m, line \u001b[0;32m1\u001b[0m\n\u001b[0;31m    {'acquisition.price_amount3}\u001b[0m\n\u001b[0m                                ^\u001b[0m\n\u001b[0;31mSyntaxError\u001b[0m\u001b[0;31m:\u001b[0m EOL while scanning string literal\n"
     ]
    }
   ],
   "source": [
    "{'acquisition.price_amount3}"
   ]
  },
  {
   "cell_type": "code",
   "execution_count": 49,
   "metadata": {},
   "outputs": [],
   "source": [
    "var13 = ({'acquisition.acquired_year': {\"$mt\": 2010}})"
   ]
  },
  {
   "cell_type": "code",
   "execution_count": 46,
   "metadata": {},
   "outputs": [],
   "source": [
    "proy13 = {'acquisition':1, \"name\":1,\"_id\":0 }"
   ]
  },
  {
   "cell_type": "markdown",
   "metadata": {},
   "source": [
    "### 14. Order the companies by their `founded year`, retrieving only their `name` and `founded year`."
   ]
  },
  {
   "cell_type": "code",
   "execution_count": 70,
   "metadata": {},
   "outputs": [],
   "source": [
    "var14 = ({'founded_year':{\"$ne\":None}})"
   ]
  },
  {
   "cell_type": "code",
   "execution_count": 71,
   "metadata": {},
   "outputs": [],
   "source": [
    "proy14 = {'founded_year':1, \"name\":1,\"_id\":0 }"
   ]
  },
  {
   "cell_type": "code",
   "execution_count": 76,
   "metadata": {},
   "outputs": [],
   "source": [
    "r14 = list(collection.find(var14,proy14).sort('founded_year', 1).limit(2))"
   ]
  },
  {
   "cell_type": "code",
   "execution_count": 77,
   "metadata": {},
   "outputs": [
    {
     "data": {
      "text/plain": [
       "[{'name': 'SmallWorlds', 'founded_year': 1800},\n",
       " {'name': 'Alstrasoft', 'founded_year': 1800}]"
      ]
     },
     "execution_count": 77,
     "metadata": {},
     "output_type": "execute_result"
    }
   ],
   "source": [
    "r14"
   ]
  },
  {
   "cell_type": "markdown",
   "metadata": {},
   "source": [
    "### 15. All the companies that have been founded on the first seven days of the month, including the seventh. Sort them by their `acquisition price` in a descending order. Limit the search to 10 documents."
   ]
  },
  {
   "cell_type": "code",
   "execution_count": 78,
   "metadata": {},
   "outputs": [],
   "source": [
    "var15 = {\"founded_day\": {\"$in\": [1, 2, 3, 4, 5, 6, 7]}}"
   ]
  },
  {
   "cell_type": "code",
   "execution_count": 79,
   "metadata": {},
   "outputs": [],
   "source": [
    "proy15 = {'founded_day':1, \"name\":1,\"_id\":0, 'acquisition.price_amount':1 }"
   ]
  },
  {
   "cell_type": "code",
   "execution_count": 82,
   "metadata": {},
   "outputs": [],
   "source": [
    "r15 = list(collection.find(var15, proy15).sort('acquisition.price_amount', -1).limit(10))"
   ]
  },
  {
   "cell_type": "code",
   "execution_count": 83,
   "metadata": {},
   "outputs": [
    {
     "data": {
      "text/plain": [
       "[{'name': 'Netscape',\n",
       "  'founded_day': 4,\n",
       "  'acquisition': {'price_amount': 4200000000}},\n",
       " {'name': 'PayPal',\n",
       "  'founded_day': 1,\n",
       "  'acquisition': {'price_amount': 1500000000}},\n",
       " {'name': 'Zappos',\n",
       "  'founded_day': 1,\n",
       "  'acquisition': {'price_amount': 1200000000}},\n",
       " {'name': 'Alibaba',\n",
       "  'founded_day': 1,\n",
       "  'acquisition': {'price_amount': 1000000000}},\n",
       " {'name': 'Postini',\n",
       "  'founded_day': 2,\n",
       "  'acquisition': {'price_amount': 625000000}},\n",
       " {'name': 'Danger',\n",
       "  'founded_day': 1,\n",
       "  'acquisition': {'price_amount': 500000000}},\n",
       " {'name': 'Clearwell Systems',\n",
       "  'founded_day': 6,\n",
       "  'acquisition': {'price_amount': 410000000}},\n",
       " {'name': 'PrimeSense',\n",
       "  'founded_day': 1,\n",
       "  'acquisition': {'price_amount': 345000000}},\n",
       " {'name': 'Amobee',\n",
       "  'founded_day': 1,\n",
       "  'acquisition': {'price_amount': 321000000}},\n",
       " {'name': 'Vitrue',\n",
       "  'founded_day': 1,\n",
       "  'acquisition': {'price_amount': 300000000}}]"
      ]
     },
     "execution_count": 83,
     "metadata": {},
     "output_type": "execute_result"
    }
   ],
   "source": [
    "r15"
   ]
  },
  {
   "cell_type": "markdown",
   "metadata": {},
   "source": [
    "### 16. All the companies on the 'web' `category` that have more than 4000 employees. Sort them by the amount of employees in ascending order."
   ]
  },
  {
   "cell_type": "code",
   "execution_count": null,
   "metadata": {},
   "outputs": [],
   "source": [
    "# Your Code"
   ]
  },
  {
   "cell_type": "markdown",
   "metadata": {},
   "source": [
    "### 17. All the companies whose acquisition amount is more than 10.000.000, and currency is 'EUR'."
   ]
  },
  {
   "cell_type": "code",
   "execution_count": null,
   "metadata": {},
   "outputs": [],
   "source": [
    "# Your Code"
   ]
  },
  {
   "cell_type": "markdown",
   "metadata": {},
   "source": [
    "### 18. All the companies that have been acquired on the first trimester of the year. Limit the search to 10 companies, and retrieve only their `name` and `acquisition` fields."
   ]
  },
  {
   "cell_type": "code",
   "execution_count": null,
   "metadata": {},
   "outputs": [],
   "source": [
    "# Your Code"
   ]
  },
  {
   "cell_type": "markdown",
   "metadata": {},
   "source": [
    "# Bonus\n",
    "### 19. All the companies that have been founded between 2000 and 2010, but have not been acquired before 2011."
   ]
  },
  {
   "cell_type": "code",
   "execution_count": null,
   "metadata": {},
   "outputs": [],
   "source": [
    "# Your Code"
   ]
  },
  {
   "cell_type": "markdown",
   "metadata": {},
   "source": [
    "### 20. All the companies that have been 'deadpooled' after the third year."
   ]
  },
  {
   "cell_type": "code",
   "execution_count": null,
   "metadata": {},
   "outputs": [],
   "source": [
    "# Your Code"
   ]
  }
 ],
 "metadata": {
  "kernelspec": {
   "display_name": "ironhack",
   "language": "python",
   "name": "ironhack"
  },
  "language_info": {
   "codemirror_mode": {
    "name": "ipython",
    "version": 3
   },
   "file_extension": ".py",
   "mimetype": "text/x-python",
   "name": "python",
   "nbconvert_exporter": "python",
   "pygments_lexer": "ipython3",
   "version": "3.8.11"
  }
 },
 "nbformat": 4,
 "nbformat_minor": 2
}
