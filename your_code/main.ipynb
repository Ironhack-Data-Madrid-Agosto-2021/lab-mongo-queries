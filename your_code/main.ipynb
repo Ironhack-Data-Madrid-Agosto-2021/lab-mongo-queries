{
 "cells": [
  {
   "cell_type": "markdown",
   "metadata": {},
   "source": [
    "# Advanced Querying Mongo"
   ]
  },
  {
   "cell_type": "markdown",
   "metadata": {},
   "source": [
    "### check 12"
   ]
  },
  {
   "cell_type": "markdown",
   "metadata": {},
   "source": [
    "Importing libraries and setting up connection"
   ]
  },
  {
   "cell_type": "code",
   "execution_count": 2,
   "metadata": {
    "collapsed": true
   },
   "outputs": [
    {
     "name": "stdout",
     "output_type": "stream",
     "text": [
      "Collecting pymongo\n",
      "  Downloading pymongo-3.12.0-cp38-cp38-manylinux2014_x86_64.whl (545 kB)\n",
      "\u001b[K     |████████████████████████████████| 545 kB 2.8 MB/s eta 0:00:01\n",
      "\u001b[?25hInstalling collected packages: pymongo\n",
      "Successfully installed pymongo-3.12.0\n",
      "Note: you may need to restart the kernel to use updated packages.\n"
     ]
    }
   ],
   "source": [
    "#pip install pymongo"
   ]
  },
  {
   "cell_type": "code",
   "execution_count": 1,
   "metadata": {},
   "outputs": [],
   "source": [
    "#imports\n",
    "from pymongo import MongoClient\n",
    "client = MongoClient(\"mongodb://localhost/companies\")"
   ]
  },
  {
   "cell_type": "code",
   "execution_count": 2,
   "metadata": {},
   "outputs": [
    {
     "data": {
      "text/plain": [
       "['admin', 'companies', 'config', 'local']"
      ]
     },
     "execution_count": 2,
     "metadata": {},
     "output_type": "execute_result"
    }
   ],
   "source": [
    "#different hosts\n",
    "client.list_database_names()"
   ]
  },
  {
   "cell_type": "code",
   "execution_count": 3,
   "metadata": {},
   "outputs": [
    {
     "data": {
      "text/plain": [
       "Database(MongoClient(host=['localhost:27017'], document_class=dict, tz_aware=False, connect=True), 'companies')"
      ]
     },
     "execution_count": 3,
     "metadata": {},
     "output_type": "execute_result"
    }
   ],
   "source": [
    "#start host\n",
    "db=client.get_database(\"companies\")\n",
    "db"
   ]
  },
  {
   "cell_type": "code",
   "execution_count": 4,
   "metadata": {},
   "outputs": [
    {
     "data": {
      "text/plain": [
       "['companies']"
      ]
     },
     "execution_count": 4,
     "metadata": {},
     "output_type": "execute_result"
    }
   ],
   "source": [
    "db.list_collection_names()"
   ]
  },
  {
   "cell_type": "code",
   "execution_count": 5,
   "metadata": {},
   "outputs": [],
   "source": [
    "c = db.get_collection(\"companies\")\n"
   ]
  },
  {
   "cell_type": "code",
   "execution_count": 12,
   "metadata": {},
   "outputs": [
    {
     "data": {
      "text/plain": [
       "dict_keys(['_id', 'name', 'permalink', 'crunchbase_url', 'homepage_url', 'blog_url', 'blog_feed_url', 'twitter_username', 'category_code', 'number_of_employees', 'founded_year', 'founded_month', 'founded_day', 'deadpooled_year', 'tag_list', 'alias_list', 'email_address', 'phone_number', 'description', 'created_at', 'updated_at', 'overview', 'image', 'products', 'relationships', 'competitions', 'providerships', 'total_money_raised', 'funding_rounds', 'investments', 'acquisition', 'acquisitions', 'offices', 'milestones', 'video_embeds', 'screenshots', 'external_links', 'partners'])"
      ]
     },
     "execution_count": 12,
     "metadata": {},
     "output_type": "execute_result"
    }
   ],
   "source": [
    "c.find_one().keys()"
   ]
  },
  {
   "cell_type": "markdown",
   "metadata": {},
   "source": [
    "### 1. All the companies whose name match 'Babelgum'. Retrieve only their `name` field."
   ]
  },
  {
   "cell_type": "code",
   "execution_count": 13,
   "metadata": {},
   "outputs": [
    {
     "data": {
      "text/plain": [
       "[{'name': 'Babelgum'}]"
      ]
     },
     "execution_count": 13,
     "metadata": {},
     "output_type": "execute_result"
    }
   ],
   "source": [
    "list(c.find({\"name\": \"Babelgum\"}, {\"name\":1, \"_id\":0}).limit(2))\n"
   ]
  },
  {
   "cell_type": "markdown",
   "metadata": {},
   "source": [
    "### 2. All the companies that have more than 5000 employees. Limit the search to 20 companies and sort them by **number of employees**."
   ]
  },
  {
   "cell_type": "code",
   "execution_count": 22,
   "metadata": {
    "collapsed": true
   },
   "outputs": [
    {
     "data": {
      "text/plain": [
       "[{'name': 'Nintendo', 'number_of_employees': 5080},\n",
       " {'name': 'Hexaware Technologies', 'number_of_employees': 5200},\n",
       " {'name': 'Facebook', 'number_of_employees': 5299},\n",
       " {'name': 'OpenText', 'number_of_employees': 5300},\n",
       " {'name': 'LSI', 'number_of_employees': 5400},\n",
       " {'name': 'CPM Braxis', 'number_of_employees': 5400},\n",
       " {'name': 'Microchip Technologies', 'number_of_employees': 5500},\n",
       " {'name': 'Mediaset', 'number_of_employees': 5729},\n",
       " {'name': 'Mindray Medical International', 'number_of_employees': 5763},\n",
       " {'name': 'Baidu', 'number_of_employees': 6000},\n",
       " {'name': 'Dentsu', 'number_of_employees': 6000},\n",
       " {'name': 'Tata Communications', 'number_of_employees': 6000},\n",
       " {'name': 'Atmel', 'number_of_employees': 6000},\n",
       " {'name': 'Acxiom', 'number_of_employees': 6200},\n",
       " {'name': 'Acxiom', 'number_of_employees': 6200},\n",
       " {'name': 'SRA International', 'number_of_employees': 6400},\n",
       " {'name': \"Moody's\", 'number_of_employees': 6800},\n",
       " {'name': 'ManTech', 'number_of_employees': 7000},\n",
       " {'name': 'Adobe Systems', 'number_of_employees': 7173},\n",
       " {'name': 'Broadcom', 'number_of_employees': 7400}]"
      ]
     },
     "execution_count": 22,
     "metadata": {},
     "output_type": "execute_result"
    }
   ],
   "source": [
    "proj = {\"name\":1,\"number_of_employees\":1 ,\"_id\":0}\n",
    "list(c.find({\"number_of_employees\": {\"$gt\": 5000}}, proj).sort(\"number_of_employees\",1).limit(20))"
   ]
  },
  {
   "cell_type": "markdown",
   "metadata": {},
   "source": [
    "### 3. All the companies founded between 2000 and 2005, both years included. Retrieve only the `name` and `founded_year` fields."
   ]
  },
  {
   "cell_type": "code",
   "execution_count": 26,
   "metadata": {},
   "outputs": [
    {
     "data": {
      "text/plain": [
       "[{'name': 'Wetpaint', 'founded_year': 2005},\n",
       " {'name': 'Zoho', 'founded_year': 2005},\n",
       " {'name': 'Digg', 'founded_year': 2004},\n",
       " {'name': 'Facebook', 'founded_year': 2004},\n",
       " {'name': 'Omnidrive', 'founded_year': 2005},\n",
       " {'name': 'StumbleUpon', 'founded_year': 2002}]"
      ]
     },
     "execution_count": 26,
     "metadata": {},
     "output_type": "execute_result"
    }
   ],
   "source": [
    "proj ={\"name\":1,\"founded_year\":1 ,\"_id\":0}\n",
    "list(c.find({\"$and\":[{\"founded_year\":{\"$gte\": 2000}},{\"founded_year\":{\"$lte\": 2005}}]}, proj).limit(6))"
   ]
  },
  {
   "cell_type": "markdown",
   "metadata": {},
   "source": [
    "### 4. All the companies that had a Valuation Amount of more than 100.000.000 and have been founded before 2010. Retrieve only the `name` and `ipo` fields."
   ]
  },
  {
   "cell_type": "code",
   "execution_count": 32,
   "metadata": {},
   "outputs": [
    {
     "data": {
      "text/plain": [
       "[{'name': 'Wetpaint'},\n",
       " {'name': 'Zoho'},\n",
       " {'name': 'Digg', 'ipo': None},\n",
       " {'name': 'Facebook',\n",
       "  'ipo': {'valuation_amount': 104000000000,\n",
       "   'valuation_currency_code': 'USD',\n",
       "   'pub_year': 2012,\n",
       "   'pub_month': 5,\n",
       "   'pub_day': 18,\n",
       "   'stock_symbol': 'NASDAQ:FB'}},\n",
       " {'name': 'Omnidrive', 'ipo': None},\n",
       " {'name': 'Geni', 'ipo': None}]"
      ]
     },
     "execution_count": 32,
     "metadata": {},
     "output_type": "execute_result"
    }
   ],
   "source": [
    "proj ={\"name\":1,\"ipo\":1 ,\"_id\":0}\n",
    "cond1 ={\"ipo.valuation_amount\":{\"$gt\": 100000000}}\n",
    "cond1 ={\"founded_year\":{\"$lte\": 2010}}\n",
    "list(c.find({\"$and\":[{\"founded_year\":{\"$gte\": 2000}},]}, proj).limit(6))"
   ]
  },
  {
   "cell_type": "markdown",
   "metadata": {},
   "source": [
    "### 5. All the companies that have less than 1000 employees and have been founded before 2005. Order them by the number of employees and limit the search to 10 companies."
   ]
  },
  {
   "cell_type": "code",
   "execution_count": 27,
   "metadata": {},
   "outputs": [
    {
     "data": {
      "text/plain": [
       "[{'name': 'Wetpaint', 'number_of_employees': 47, 'founded_year': 2005},\n",
       " {'name': 'AdventNet', 'number_of_employees': 600, 'founded_year': 1996},\n",
       " {'name': 'Digg', 'number_of_employees': 60, 'founded_year': 2004},\n",
       " {'name': 'Fox Interactive Media',\n",
       "  'number_of_employees': 0,\n",
       "  'founded_year': 1979},\n",
       " {'name': 'Plaxo', 'number_of_employees': 50, 'founded_year': 2002},\n",
       " {'name': 'Technorati', 'number_of_employees': 35, 'founded_year': 2002},\n",
       " {'name': 'AddThis', 'number_of_employees': 120, 'founded_year': 2004},\n",
       " {'name': 'Jingle Networks', 'number_of_employees': 35, 'founded_year': 2005},\n",
       " {'name': 'Meetup', 'number_of_employees': 75, 'founded_year': 2002},\n",
       " {'name': 'LifeLock', 'number_of_employees': 644, 'founded_year': 2005}]"
      ]
     },
     "execution_count": 27,
     "metadata": {},
     "output_type": "execute_result"
    }
   ],
   "source": [
    "proj ={\"name\":1,\"founded_year\":1, \"number_of_employees\":1  ,\"_id\":0}\n",
    "cond1 ={\"number_of_employees\":{\"$lt\": 1000}}\n",
    "cond2 ={\"founded_year\":{\"$lte\": 2005}}\n",
    "list(c.find({\"$and\":[cond1,cond2]}, proj).limit(10))"
   ]
  },
  {
   "cell_type": "markdown",
   "metadata": {},
   "source": [
    "### 6. All the companies that don't include the `partners` field."
   ]
  },
  {
   "cell_type": "code",
   "execution_count": 29,
   "metadata": {},
   "outputs": [
    {
     "data": {
      "text/plain": [
       "[]"
      ]
     },
     "execution_count": 29,
     "metadata": {},
     "output_type": "execute_result"
    }
   ],
   "source": [
    "proj ={\"name\":1, \"_id\":0}\n",
    "list(c.find({\"partners\": {\"$exists\": False}}, proj).limit(10))"
   ]
  },
  {
   "cell_type": "markdown",
   "metadata": {},
   "source": [
    "### 7. All the companies that have a null type of value on the `category_code` field."
   ]
  },
  {
   "cell_type": "code",
   "execution_count": 30,
   "metadata": {},
   "outputs": [
    {
     "data": {
      "text/plain": [
       "[]"
      ]
     },
     "execution_count": 30,
     "metadata": {},
     "output_type": "execute_result"
    }
   ],
   "source": [
    "proj ={\"name\":1, \"_id\":0}\n",
    "list(c.find({\"category_code\": {\"$regex\": \"null\"}}, proj).limit(10))"
   ]
  },
  {
   "cell_type": "markdown",
   "metadata": {},
   "source": [
    "### 8. All the companies that have at least 100 employees but less than 1000. Retrieve only the `name` and `number of employees` fields."
   ]
  },
  {
   "cell_type": "code",
   "execution_count": 31,
   "metadata": {},
   "outputs": [
    {
     "data": {
      "text/plain": [
       "[{'name': 'Wetpaint', 'number_of_employees': 47},\n",
       " {'name': 'AdventNet', 'number_of_employees': 600},\n",
       " {'name': 'Digg', 'number_of_employees': 60},\n",
       " {'name': 'Fox Interactive Media', 'number_of_employees': 0},\n",
       " {'name': 'Plaxo', 'number_of_employees': 50},\n",
       " {'name': 'Technorati', 'number_of_employees': 35},\n",
       " {'name': 'AddThis', 'number_of_employees': 120},\n",
       " {'name': 'Jingle Networks', 'number_of_employees': 35},\n",
       " {'name': 'Meetup', 'number_of_employees': 75},\n",
       " {'name': 'LifeLock', 'number_of_employees': 644}]"
      ]
     },
     "execution_count": 31,
     "metadata": {},
     "output_type": "execute_result"
    }
   ],
   "source": [
    "proj ={\"name\":1, \"number_of_employees\":1, \"_id\":0}\n",
    "cond1 ={\"number_of_employees\":{\"$gte\": 100}}\n",
    "cond1 ={\"number_of_employees\":{\"$lt\": 1000}}\n",
    "list(c.find({\"$and\":[cond1,cond2]}, proj).limit(10))"
   ]
  },
  {
   "cell_type": "markdown",
   "metadata": {},
   "source": [
    "### 9. Order all the companies by their IPO price in a descending order."
   ]
  },
  {
   "cell_type": "code",
   "execution_count": 34,
   "metadata": {},
   "outputs": [
    {
     "data": {
      "text/plain": [
       "[]"
      ]
     },
     "execution_count": 34,
     "metadata": {},
     "output_type": "execute_result"
    }
   ],
   "source": [
    "proj ={\"name\":1, \"ipo.price\":1, \"_id\":0}\n",
    "\n",
    "list(c.find({\"ipo.price\": {\"$exists\": True}}, proj).sort(\"ipo.price\",1).limit(10))"
   ]
  },
  {
   "cell_type": "markdown",
   "metadata": {},
   "source": [
    "### 10. Retrieve the 10 companies with more employees, order by the `number of employees`"
   ]
  },
  {
   "cell_type": "code",
   "execution_count": 38,
   "metadata": {},
   "outputs": [
    {
     "data": {
      "text/plain": [
       "[{'name': 'Siemens', 'number_of_employees': 405000},\n",
       " {'name': 'IBM', 'number_of_employees': 388000},\n",
       " {'name': 'Toyota', 'number_of_employees': 320000},\n",
       " {'name': 'PayPal', 'number_of_employees': 300000},\n",
       " {'name': 'Nippon Telegraph and Telephone Corporation',\n",
       "  'number_of_employees': 227000},\n",
       " {'name': 'Samsung Electronics', 'number_of_employees': 221726},\n",
       " {'name': 'Accenture', 'number_of_employees': 205000},\n",
       " {'name': 'Tata Consultancy Services', 'number_of_employees': 200300},\n",
       " {'name': 'Flextronics International', 'number_of_employees': 200000},\n",
       " {'name': 'Safeway', 'number_of_employees': 186000}]"
      ]
     },
     "execution_count": 38,
     "metadata": {},
     "output_type": "execute_result"
    }
   ],
   "source": [
    "proj ={\"name\":1, \"number_of_employees\":1, \"_id\":0}\n",
    "\n",
    "list(c.find({},proj).sort(\"number_of_employees\",-1).limit(10))"
   ]
  },
  {
   "cell_type": "markdown",
   "metadata": {},
   "source": [
    "### 11. All the companies founded on the second semester of the year. Limit your search to 1000 companies."
   ]
  },
  {
   "cell_type": "code",
   "execution_count": 39,
   "metadata": {},
   "outputs": [
    {
     "data": {
      "text/plain": [
       "[{'name': 'Wetpaint', 'founded_month': 10},\n",
       " {'name': 'Zoho', 'founded_month': 9},\n",
       " {'name': 'Digg', 'founded_month': 10},\n",
       " {'name': 'Omnidrive', 'founded_month': 11},\n",
       " {'name': 'eBay', 'founded_month': 9},\n",
       " {'name': 'Joost', 'founded_month': 10},\n",
       " {'name': 'Plaxo', 'founded_month': 11},\n",
       " {'name': 'Powerset', 'founded_month': 10},\n",
       " {'name': 'Kyte', 'founded_month': 12},\n",
       " {'name': 'Thoof', 'founded_month': 12}]"
      ]
     },
     "execution_count": 39,
     "metadata": {},
     "output_type": "execute_result"
    }
   ],
   "source": [
    "proj ={\"name\":1, \"founded_month\":1, \"_id\":0}\n",
    "\n",
    "list(c.find({\"founded_month\": {\"$gt\": 6}},proj).limit(10))"
   ]
  },
  {
   "cell_type": "markdown",
   "metadata": {},
   "source": [
    "### 12. All the companies founded before 2000 that have an acquisition amount of more than 10.000.00"
   ]
  },
  {
   "cell_type": "code",
   "execution_count": 46,
   "metadata": {},
   "outputs": [
    {
     "data": {
      "text/plain": [
       "[{'name': 'Postini', 'acquisition': {'price_amount': 625000000}},\n",
       " {'name': 'SideStep', 'acquisition': {'price_amount': 180000000}},\n",
       " {'name': 'Recipezaar', 'acquisition': {'price_amount': 25000000}},\n",
       " {'name': 'PayPal', 'acquisition': {'price_amount': 1500000000}},\n",
       " {'name': 'Snapfish', 'acquisition': {'price_amount': 300000000}},\n",
       " {'name': 'Neopets', 'acquisition': {'price_amount': 160000000}},\n",
       " {'name': 'Sun Microsystems', 'acquisition': {'price_amount': 7400000000}},\n",
       " {'name': 'Zappos', 'acquisition': {'price_amount': 1200000000}},\n",
       " {'name': 'Alibaba', 'acquisition': {'price_amount': 1000000000}},\n",
       " {'name': 'Sabre', 'acquisition': {'price_amount': 4300000000}}]"
      ]
     },
     "execution_count": 46,
     "metadata": {},
     "output_type": "execute_result"
    }
   ],
   "source": [
    "proj ={\"name\":1, \"acquisition.price_amount\":1, \"_id\":0}\n",
    "cond1 ={\"acquisition.price_amount\":{\"$gt\": 10000000}}\n",
    "cond2 ={\"founded_year\":{\"$lt\": 2000}}\n",
    "list(c.find({\"$and\":[cond1,cond2]},proj).limit(10))"
   ]
  },
  {
   "cell_type": "markdown",
   "metadata": {},
   "source": [
    "### 13. All the companies that have been acquired after 2010, order by the acquisition amount, and retrieve only their `name` and `acquisition` field."
   ]
  },
  {
   "cell_type": "code",
   "execution_count": 53,
   "metadata": {
    "collapsed": true
   },
   "outputs": [
    {
     "data": {
      "text/plain": [
       "[{'name': 'Sense Networks',\n",
       "  'acquisition': {'price_amount': None,\n",
       "   'price_currency_code': 'USD',\n",
       "   'term_code': None,\n",
       "   'source_url': 'http://techcrunch.com/2014/01/06/yp-acquires-sense-networks/',\n",
       "   'source_description': 'In Its First Acquisition, YP Buys Mobile Ad Company Sense Networks',\n",
       "   'acquired_year': 2014,\n",
       "   'acquired_month': 1,\n",
       "   'acquired_day': 6,\n",
       "   'acquiring_company': {'name': 'YP', 'permalink': 'yp-2'}}},\n",
       " {'name': 'Nullsoft',\n",
       "  'acquisition': {'price_amount': None,\n",
       "   'price_currency_code': 'USD',\n",
       "   'term_code': None,\n",
       "   'source_url': 'http://techcrunch.com/2014/01/01/aol-sells-winamp-and-shoutcast-music-services-to-online-radio-aggregator-radionomy/',\n",
       "   'source_description': 'AOL Sells Winamp And Shoutcast Music Services To Online Radio Aggregator Radionomy',\n",
       "   'acquired_year': 2014,\n",
       "   'acquired_month': 1,\n",
       "   'acquired_day': None,\n",
       "   'acquiring_company': {'name': 'Radionomy', 'permalink': 'radionomy'}}},\n",
       " {'name': 'Alverix',\n",
       "  'acquisition': {'price_amount': 40000000,\n",
       "   'price_currency_code': 'USD',\n",
       "   'term_code': 'cash',\n",
       "   'source_url': 'http://ir.safeguard.com/investor-relations/press-releases/press-release-details/2014/Safeguard-Scientifics-Partner-Company-Alverix-Acquired-by-BD/default.aspx',\n",
       "   'source_description': 'Safeguard Scientifics Partner Company Alverix Acquired by BD',\n",
       "   'acquired_year': 2014,\n",
       "   'acquired_month': 1,\n",
       "   'acquired_day': 7,\n",
       "   'acquiring_company': {'name': 'Becton Dickinson',\n",
       "    'permalink': 'becton-dickinson'}}},\n",
       " {'name': 'Wetpaint',\n",
       "  'acquisition': {'price_amount': 30000000,\n",
       "   'price_currency_code': 'USD',\n",
       "   'term_code': 'cash_and_stock',\n",
       "   'source_url': 'http://allthingsd.com/20131216/viggle-tries-to-bulk-up-its-social-tv-business-by-buying-wetpaint/?mod=atdtweet',\n",
       "   'source_description': ' Viggle Tries to Bulk Up Its Social TV Business by Buying Wetpaint',\n",
       "   'acquired_year': 2013,\n",
       "   'acquired_month': 12,\n",
       "   'acquired_day': 16,\n",
       "   'acquiring_company': {'name': 'Viggle', 'permalink': 'viggle'}}},\n",
       " {'name': 'blogTV',\n",
       "  'acquisition': {'price_amount': None,\n",
       "   'price_currency_code': 'USD',\n",
       "   'term_code': None,\n",
       "   'source_url': 'http://techcrunch.com/2013/03/13/younow-buys-blogtv/',\n",
       "   'source_description': 'Live Social Video Network YouNow Acquires Streaming Service BlogTV',\n",
       "   'acquired_year': 2013,\n",
       "   'acquired_month': 3,\n",
       "   'acquired_day': 13,\n",
       "   'acquiring_company': {'name': 'YouNow', 'permalink': 'younow'}}},\n",
       " {'name': 'Mashery',\n",
       "  'acquisition': {'price_amount': None,\n",
       "   'price_currency_code': 'USD',\n",
       "   'term_code': None,\n",
       "   'source_url': 'http://allthingsd.com/20130417/intel-acquires-api-manager-mashery/',\n",
       "   'source_description': 'Intel Acquires API Manager Mashery',\n",
       "   'acquired_year': 2013,\n",
       "   'acquired_month': 4,\n",
       "   'acquired_day': 17,\n",
       "   'acquiring_company': {'name': 'Intel', 'permalink': 'intel'}}},\n",
       " {'name': 'Dailymotion',\n",
       "  'acquisition': {'price_amount': 168000000,\n",
       "   'price_currency_code': 'USD',\n",
       "   'term_code': None,\n",
       "   'source_url': 'http://techcrunch.com/2013/02/22/orange-acquired-dailymotion-for-168-million-by-buying-out-the-remaining-51-stake/',\n",
       "   'source_description': 'Orange Acquired Dailymotion For $168 Million By Buying Out Remaining 51% Stake [Update: Orange Confirms]',\n",
       "   'acquired_year': 2013,\n",
       "   'acquired_month': 2,\n",
       "   'acquired_day': 22,\n",
       "   'acquiring_company': {'name': 'Orange', 'permalink': 'orange'}}},\n",
       " {'name': 'adBrite',\n",
       "  'acquisition': {'price_amount': None,\n",
       "   'price_currency_code': 'USD',\n",
       "   'term_code': None,\n",
       "   'source_url': 'http://techcrunch.com/2013/06/20/sitescout-acquires-ip-developed-by-defunct-ad-exchange-adbrite/',\n",
       "   'source_description': 'SiteScout Acquires IP Developed By Defunct Ad Exchange adBrite',\n",
       "   'acquired_year': 2013,\n",
       "   'acquired_month': 6,\n",
       "   'acquired_day': 20,\n",
       "   'acquiring_company': {'name': 'Site Scout', 'permalink': 'site-scout'}}},\n",
       " {'name': 'Grockit',\n",
       "  'acquisition': {'price_amount': None,\n",
       "   'price_currency_code': 'USD',\n",
       "   'term_code': None,\n",
       "   'source_url': 'http://www.finsmes.com/2013/07/kaplan-acquires-grockit-platform-test-prep-assets.html',\n",
       "   'source_description': 'Kaplan Acquires Grockit Platform And Test Prep Assets',\n",
       "   'acquired_year': 2013,\n",
       "   'acquired_month': 7,\n",
       "   'acquired_day': 31,\n",
       "   'acquiring_company': {'name': 'Kaplan', 'permalink': 'kaplan'}}},\n",
       " {'name': 'Zenfolio',\n",
       "  'acquisition': {'price_amount': None,\n",
       "   'price_currency_code': 'USD',\n",
       "   'term_code': None,\n",
       "   'source_url': 'http://corporate.art.com/media/media_releases_20130107.html',\n",
       "   'source_description': 'Art.com Inc. Acquires Zenfolio',\n",
       "   'acquired_year': 2013,\n",
       "   'acquired_month': 1,\n",
       "   'acquired_day': 7,\n",
       "   'acquiring_company': {'name': 'Art.com', 'permalink': 'art-com'}}}]"
      ]
     },
     "execution_count": 53,
     "metadata": {},
     "output_type": "execute_result"
    }
   ],
   "source": [
    "proj ={\"name\":1, \"acquisition\":1, \"_id\":0}\n",
    "\n",
    "list(c.find({\"acquisition.acquired_year\":{\"$gt\": 2010}},proj).sort(\"acquisition.acquired_year\",-1 ).limit(10))"
   ]
  },
  {
   "cell_type": "markdown",
   "metadata": {},
   "source": [
    "### 14. Order the companies by their `founded year`, retrieving only their `name` and `founded year`."
   ]
  },
  {
   "cell_type": "code",
   "execution_count": 59,
   "metadata": {},
   "outputs": [
    {
     "data": {
      "text/plain": [
       "[{'name': 'Alstrasoft', 'founded_year': 1800},\n",
       " {'name': 'SmallWorlds', 'founded_year': 1800},\n",
       " {'name': 'US Army', 'founded_year': 1800},\n",
       " {'name': 'DuPont', 'founded_year': 1802},\n",
       " {'name': 'McKesson', 'founded_year': 1833},\n",
       " {'name': 'Bachmann Industries', 'founded_year': 1833},\n",
       " {'name': 'Bertelsmann', 'founded_year': 1835},\n",
       " {'name': 'Accuity', 'founded_year': 1836},\n",
       " {'name': 'CENTRA', 'founded_year': 1839},\n",
       " {'name': 'WeGame', 'founded_year': 1840}]"
      ]
     },
     "execution_count": 59,
     "metadata": {},
     "output_type": "execute_result"
    }
   ],
   "source": [
    "proj ={\"name\":1, \"founded_year\":1, \"_id\":0}\n",
    "\n",
    "list(c.find({\"founded_year\": {\"$exists\" : True}},proj).sort(\"founded_year\",1).limit(10).skip(\n",
    "len(list(c.find({\"founded_year\": None})))))"
   ]
  },
  {
   "cell_type": "markdown",
   "metadata": {},
   "source": [
    "### 15. All the companies that have been founded on the first seven days of the month, including the seventh. Sort them by their `acquisition price` in a descending order. Limit the search to 10 documents."
   ]
  },
  {
   "cell_type": "code",
   "execution_count": 62,
   "metadata": {},
   "outputs": [
    {
     "data": {
      "text/plain": [
       "[{'name': 'National Semiconductor',\n",
       "  'acquisition': {'price_amount': 6500000000, 'acquired_day': 4}},\n",
       " {'name': 'The Weather Channel',\n",
       "  'acquisition': {'price_amount': 3500000000, 'acquired_day': 7}},\n",
       " {'name': 'Macromedia',\n",
       "  'acquisition': {'price_amount': 3400000000, 'acquired_day': 3}},\n",
       " {'name': 'Interactive Data',\n",
       "  'acquisition': {'price_amount': 3400000000, 'acquired_day': 4}},\n",
       " {'name': 'Qualcomm Atheros',\n",
       "  'acquisition': {'price_amount': 3100000000, 'acquired_day': 5}},\n",
       " {'name': 'ExactTarget',\n",
       "  'acquisition': {'price_amount': 2500000000, 'acquired_day': 4}},\n",
       " {'name': 'Quest Software',\n",
       "  'acquisition': {'price_amount': 2400000000, 'acquired_day': 2}},\n",
       " {'name': 'Legent Corporation',\n",
       "  'acquisition': {'price_amount': 1740000000, 'acquired_day': 1}},\n",
       " {'name': 'Digital Insight',\n",
       "  'acquisition': {'price_amount': 1650000000, 'acquired_day': 2}},\n",
       " {'name': 'Equallogic',\n",
       "  'acquisition': {'price_amount': 1400000000, 'acquired_day': 5}}]"
      ]
     },
     "execution_count": 62,
     "metadata": {},
     "output_type": "execute_result"
    }
   ],
   "source": [
    "proj ={\"name\":1, \"acquisition.acquired_day\":1,\"acquisition.price_amount\":1, \"_id\":0}\n",
    "\n",
    "list(c.find({\"acquisition.acquired_day\":{\"$lte\": 7}},proj).sort(\"acquisition.price_amount\",-1 ).limit(10))"
   ]
  },
  {
   "cell_type": "markdown",
   "metadata": {},
   "source": [
    "### 16. All the companies on the 'web' `category` that have more than 4000 employees. Sort them by the amount of employees in ascending order."
   ]
  },
  {
   "cell_type": "code",
   "execution_count": null,
   "metadata": {},
   "outputs": [],
   "source": [
    "# Your Code"
   ]
  },
  {
   "cell_type": "markdown",
   "metadata": {},
   "source": [
    "### 17. All the companies whose acquisition amount is more than 10.000.000, and currency is 'EUR'."
   ]
  },
  {
   "cell_type": "code",
   "execution_count": 65,
   "metadata": {},
   "outputs": [
    {
     "data": {
      "text/plain": [
       "[{'name': 'ZYB',\n",
       "  'acquisition': {'price_amount': 31500000, 'price_currency_code': 'EUR'}},\n",
       " {'name': 'Apertio',\n",
       "  'acquisition': {'price_amount': 140000000, 'price_currency_code': 'EUR'}},\n",
       " {'name': 'Greenfield Online',\n",
       "  'acquisition': {'price_amount': 40000000, 'price_currency_code': 'EUR'}},\n",
       " {'name': 'Webedia',\n",
       "  'acquisition': {'price_amount': 70000000, 'price_currency_code': 'EUR'}},\n",
       " {'name': 'Wayfinder',\n",
       "  'acquisition': {'price_amount': 24000000, 'price_currency_code': 'EUR'}},\n",
       " {'name': 'Tuenti Technologies',\n",
       "  'acquisition': {'price_amount': 70000000, 'price_currency_code': 'EUR'}},\n",
       " {'name': 'BioMed Central',\n",
       "  'acquisition': {'price_amount': 43400000, 'price_currency_code': 'EUR'}}]"
      ]
     },
     "execution_count": 65,
     "metadata": {},
     "output_type": "execute_result"
    }
   ],
   "source": [
    "proj ={\"name\":1, \"acquisition.price_amount\":1,\"acquisition.price_currency_code\":1, \"_id\":0}\n",
    "cond1 ={\"acquisition.price_amount\":{\"$gt\": 10000000}}\n",
    "cond2 ={\"acquisition.price_currency_code\": \"EUR\"}\n",
    "list(c.find({\"$and\":[cond1,cond2]},proj).limit(10))"
   ]
  },
  {
   "cell_type": "markdown",
   "metadata": {},
   "source": [
    "### 18. All the companies that have been acquired on the first trimester of the year. Limit the search to 10 companies, and retrieve only their `name` and `acquisition` fields."
   ]
  },
  {
   "cell_type": "code",
   "execution_count": 68,
   "metadata": {
    "collapsed": true
   },
   "outputs": [
    {
     "data": {
      "text/plain": [
       "[{'name': 'Kyte',\n",
       "  'acquisition': {'price_amount': None,\n",
       "   'price_currency_code': 'USD',\n",
       "   'term_code': None,\n",
       "   'source_url': 'http://techcrunch.com/2011/01/31/exclusive-kit-digital-acquires-kickapps-kewego-and-kyte-for-77-2-million/',\n",
       "   'source_description': 'KIT digital Acquires KickApps, Kewego AND Kyte For $77.2 Million',\n",
       "   'acquired_year': 2011,\n",
       "   'acquired_month': 1,\n",
       "   'acquired_day': 31,\n",
       "   'acquiring_company': {'name': 'KIT digital', 'permalink': 'kit-digital'}}},\n",
       " {'name': 'NetRatings',\n",
       "  'acquisition': {'price_amount': 327000000,\n",
       "   'price_currency_code': 'USD',\n",
       "   'term_code': 'cash',\n",
       "   'source_url': 'http://login.vnuemedia.com/hr/login/login_subscribe.jsp?id=0oqDem1gYIfIclz9i2%2Ffqj5NxCp2AC5DPbVnyT2da8GyV2mXjasabE128n69OrmcAh52%2FGE3pSG%2F%0AEKRYD9vh9EhrJrxukmUzh532fSMTZXL42gwPB80UWVtF1NwJ5UZSM%2BCkLU1mpYBoHFgiH%2Fi0f6Ax%0A9yMIVxt47t%2BHamhEQ0nkOEK24L',\n",
       "   'source_description': 'Nielsen buys rest of NetRatings',\n",
       "   'acquired_year': 2007,\n",
       "   'acquired_month': 2,\n",
       "   'acquired_day': None,\n",
       "   'acquiring_company': {'name': 'Nielsen', 'permalink': 'nielsen'}}},\n",
       " {'name': 'blogTV',\n",
       "  'acquisition': {'price_amount': None,\n",
       "   'price_currency_code': 'USD',\n",
       "   'term_code': None,\n",
       "   'source_url': 'http://techcrunch.com/2013/03/13/younow-buys-blogtv/',\n",
       "   'source_description': 'Live Social Video Network YouNow Acquires Streaming Service BlogTV',\n",
       "   'acquired_year': 2013,\n",
       "   'acquired_month': 3,\n",
       "   'acquired_day': 13,\n",
       "   'acquiring_company': {'name': 'YouNow', 'permalink': 'younow'}}},\n",
       " {'name': 'Livestream',\n",
       "  'acquisition': {'price_amount': None,\n",
       "   'price_currency_code': 'USD',\n",
       "   'term_code': 'cash_and_stock',\n",
       "   'source_url': '',\n",
       "   'source_description': 'company',\n",
       "   'acquired_year': 2008,\n",
       "   'acquired_month': 1,\n",
       "   'acquired_day': 1,\n",
       "   'acquiring_company': {'name': 'Adviqo', 'permalink': 'adviqo'}}},\n",
       " {'name': 'iContact',\n",
       "  'acquisition': {'price_amount': 169000000,\n",
       "   'price_currency_code': 'USD',\n",
       "   'term_code': 'cash_and_stock',\n",
       "   'source_url': 'http://techcrunch.com/2012/02/28/vocus-buys-email-marketing-company-icontact-for-169-million/',\n",
       "   'source_description': 'Vocus Buys Email Marketing Company iContact For $169 Million',\n",
       "   'acquired_year': 2012,\n",
       "   'acquired_month': 2,\n",
       "   'acquired_day': 28,\n",
       "   'acquiring_company': {'name': 'Vocus', 'permalink': 'vocus'}}},\n",
       " {'name': 'Coghead',\n",
       "  'acquisition': {'price_amount': None,\n",
       "   'price_currency_code': 'USD',\n",
       "   'term_code': None,\n",
       "   'source_url': 'http://www.techcrunch.com/2009/02/19/sap-acquires-cogheads-technology-as-it-looks-towards-the-cloud/',\n",
       "   'source_description': 'SAP Acquires Cogheadâ€™s Technology As It Looks Towards The Cloud',\n",
       "   'acquired_year': 2009,\n",
       "   'acquired_month': 2,\n",
       "   'acquired_day': 19,\n",
       "   'acquiring_company': {'name': 'SAP', 'permalink': 'sap'}}},\n",
       " {'name': 'Dailymotion',\n",
       "  'acquisition': {'price_amount': 168000000,\n",
       "   'price_currency_code': 'USD',\n",
       "   'term_code': None,\n",
       "   'source_url': 'http://techcrunch.com/2013/02/22/orange-acquired-dailymotion-for-168-million-by-buying-out-the-remaining-51-stake/',\n",
       "   'source_description': 'Orange Acquired Dailymotion For $168 Million By Buying Out Remaining 51% Stake [Update: Orange Confirms]',\n",
       "   'acquired_year': 2013,\n",
       "   'acquired_month': 2,\n",
       "   'acquired_day': 22,\n",
       "   'acquiring_company': {'name': 'Orange', 'permalink': 'orange'}}},\n",
       " {'name': 'Netvibes',\n",
       "  'acquisition': {'price_amount': None,\n",
       "   'price_currency_code': 'USD',\n",
       "   'term_code': None,\n",
       "   'source_url': 'http://www.marketwatch.com/story/dassault-systemes-acquires-netvibes-2012-02-09',\n",
       "   'source_description': 'Dassault Systemes Acquires Netvibes',\n",
       "   'acquired_year': 2012,\n",
       "   'acquired_month': 2,\n",
       "   'acquired_day': 9,\n",
       "   'acquiring_company': {'name': 'Dassault Systemes',\n",
       "    'permalink': 'dassault'}}},\n",
       " {'name': 'Flickr',\n",
       "  'acquisition': {'price_amount': None,\n",
       "   'price_currency_code': 'USD',\n",
       "   'term_code': 'cash_and_stock',\n",
       "   'source_url': 'http://news.cnet.com/Yahoo-buys-photo-sharing-site-Flickr/2100-1038_3-5627640.html?tag=mncol;txt',\n",
       "   'source_description': 'CNET',\n",
       "   'acquired_year': 2005,\n",
       "   'acquired_month': 3,\n",
       "   'acquired_day': None,\n",
       "   'acquiring_company': {'name': 'Yahoo!', 'permalink': 'yahoo'}}},\n",
       " {'name': 'BabyCenter',\n",
       "  'acquisition': {'price_amount': None,\n",
       "   'price_currency_code': 'USD',\n",
       "   'term_code': None,\n",
       "   'source_url': 'http://www.investor.jnj.com/releasedetail.cfm?releaseid=63836',\n",
       "   'source_description': 'Johnson & Johnson Acquires BabyCenter From eToys, Inc. Leading Online Destination for Parents Plans for Continued Expansion of Operations',\n",
       "   'acquired_year': 2001,\n",
       "   'acquired_month': 3,\n",
       "   'acquired_day': 2,\n",
       "   'acquiring_company': {'name': 'Johnson & Johnson',\n",
       "    'permalink': 'johnson-johnson'}}}]"
      ]
     },
     "execution_count": 68,
     "metadata": {},
     "output_type": "execute_result"
    }
   ],
   "source": [
    "proj ={\"name\":1, \"acquisition\":1, \"_id\":0}\n",
    "list(c.find({\"acquisition.acquired_month\": {\"$lt\": 4}},proj).limit(10))"
   ]
  },
  {
   "cell_type": "markdown",
   "metadata": {},
   "source": [
    "# Bonus\n",
    "### 19. All the companies that have been founded between 2000 and 2010, but have not been acquired before 2011."
   ]
  },
  {
   "cell_type": "code",
   "execution_count": 7,
   "metadata": {},
   "outputs": [
    {
     "data": {
      "text/plain": [
       "[{'name': 'Wetpaint',\n",
       "  'founded_year': 2005,\n",
       "  'acquisition': {'price_amount': 30000000,\n",
       "   'price_currency_code': 'USD',\n",
       "   'term_code': 'cash_and_stock',\n",
       "   'source_url': 'http://allthingsd.com/20131216/viggle-tries-to-bulk-up-its-social-tv-business-by-buying-wetpaint/?mod=atdtweet',\n",
       "   'source_description': ' Viggle Tries to Bulk Up Its Social TV Business by Buying Wetpaint',\n",
       "   'acquired_year': 2013,\n",
       "   'acquired_month': 12,\n",
       "   'acquired_day': 16,\n",
       "   'acquiring_company': {'name': 'Viggle', 'permalink': 'viggle'}}},\n",
       " {'name': 'Digg',\n",
       "  'founded_year': 2004,\n",
       "  'acquisition': {'price_amount': 500000,\n",
       "   'price_currency_code': 'USD',\n",
       "   'term_code': None,\n",
       "   'source_url': 'http://techcrunch.com/2012/07/12/betaworks-acquires-digg/',\n",
       "   'source_description': 'Betaworks Acquires Digg (TechCrunch)',\n",
       "   'acquired_year': 2012,\n",
       "   'acquired_month': 7,\n",
       "   'acquired_day': 12,\n",
       "   'acquiring_company': {'name': 'betaworks', 'permalink': 'betaworks'}}},\n",
       " {'name': 'Geni',\n",
       "  'founded_year': 2006,\n",
       "  'acquisition': {'price_amount': None,\n",
       "   'price_currency_code': 'USD',\n",
       "   'term_code': None,\n",
       "   'source_url': 'http://techcrunch.com/2012/11/28/all-in-the-family-myheritage-buys-former-yammer-stablemate-geni-com-raises-25m/',\n",
       "   'source_description': 'MyHeritage acquires Geni and $25M to build family tree of the whole world',\n",
       "   'acquired_year': 2012,\n",
       "   'acquired_month': 11,\n",
       "   'acquired_day': 28,\n",
       "   'acquiring_company': {'name': 'MyHeritage', 'permalink': 'myheritage'}}},\n",
       " {'name': 'Kyte',\n",
       "  'founded_year': 2006,\n",
       "  'acquisition': {'price_amount': None,\n",
       "   'price_currency_code': 'USD',\n",
       "   'term_code': None,\n",
       "   'source_url': 'http://techcrunch.com/2011/01/31/exclusive-kit-digital-acquires-kickapps-kewego-and-kyte-for-77-2-million/',\n",
       "   'source_description': 'KIT digital Acquires KickApps, Kewego AND Kyte For $77.2 Million',\n",
       "   'acquired_year': 2011,\n",
       "   'acquired_month': 1,\n",
       "   'acquired_day': 31,\n",
       "   'acquiring_company': {'name': 'KIT digital', 'permalink': 'kit-digital'}}},\n",
       " {'name': 'Jingle Networks',\n",
       "  'founded_year': 2005,\n",
       "  'acquisition': {'price_amount': 62500000,\n",
       "   'price_currency_code': 'USD',\n",
       "   'term_code': 'cash_and_stock',\n",
       "   'source_url': 'http://www.masshightech.com/stories/2011/04/11/daily11-Jingle-Networks-bought-for-up-to-625M.html',\n",
       "   'source_description': 'Jingle Networks bought for up to $62.5M',\n",
       "   'acquired_year': 2011,\n",
       "   'acquired_month': 4,\n",
       "   'acquired_day': 11,\n",
       "   'acquiring_company': {'name': 'Marchex', 'permalink': 'marchex'}}},\n",
       " {'name': 'blogTV',\n",
       "  'founded_year': 2006,\n",
       "  'acquisition': {'price_amount': None,\n",
       "   'price_currency_code': 'USD',\n",
       "   'term_code': None,\n",
       "   'source_url': 'http://techcrunch.com/2013/03/13/younow-buys-blogtv/',\n",
       "   'source_description': 'Live Social Video Network YouNow Acquires Streaming Service BlogTV',\n",
       "   'acquired_year': 2013,\n",
       "   'acquired_month': 3,\n",
       "   'acquired_day': 13,\n",
       "   'acquiring_company': {'name': 'YouNow', 'permalink': 'younow'}}},\n",
       " {'name': 'delicious',\n",
       "  'founded_year': 2003,\n",
       "  'acquisition': {'price_amount': None,\n",
       "   'price_currency_code': 'USD',\n",
       "   'term_code': None,\n",
       "   'source_url': 'http://techcrunch.com/2011/04/27/yahoo-sells-delicious-to-youtube-founders/',\n",
       "   'source_description': 'Yahoo Sells Delicious To YouTube Founders',\n",
       "   'acquired_year': 2011,\n",
       "   'acquired_month': 4,\n",
       "   'acquired_day': 27,\n",
       "   'acquiring_company': {'name': 'AVOS Systems', 'permalink': 'avos'}}},\n",
       " {'name': 'Revision3',\n",
       "  'founded_year': 2005,\n",
       "  'acquisition': {'price_amount': 30000000,\n",
       "   'price_currency_code': 'USD',\n",
       "   'term_code': None,\n",
       "   'source_url': 'http://allthingsd.com/20120503/discovery-gets-a-web-video-arm-courtesy-of-revision-3/',\n",
       "   'source_description': 'Discovery Gets a Web Video Arm, Courtesy of Revision3',\n",
       "   'acquired_year': 2012,\n",
       "   'acquired_month': 5,\n",
       "   'acquired_day': 3,\n",
       "   'acquiring_company': {'name': 'Discovery Communications',\n",
       "    'permalink': 'discoverycommunications'}}},\n",
       " {'name': 'iContact',\n",
       "  'founded_year': 2003,\n",
       "  'acquisition': {'price_amount': 169000000,\n",
       "   'price_currency_code': 'USD',\n",
       "   'term_code': 'cash_and_stock',\n",
       "   'source_url': 'http://techcrunch.com/2012/02/28/vocus-buys-email-marketing-company-icontact-for-169-million/',\n",
       "   'source_description': 'Vocus Buys Email Marketing Company iContact For $169 Million',\n",
       "   'acquired_year': 2012,\n",
       "   'acquired_month': 2,\n",
       "   'acquired_day': 28,\n",
       "   'acquiring_company': {'name': 'Vocus', 'permalink': 'vocus'}}},\n",
       " {'name': 'Mashery',\n",
       "  'founded_year': 2006,\n",
       "  'acquisition': {'price_amount': None,\n",
       "   'price_currency_code': 'USD',\n",
       "   'term_code': None,\n",
       "   'source_url': 'http://allthingsd.com/20130417/intel-acquires-api-manager-mashery/',\n",
       "   'source_description': 'Intel Acquires API Manager Mashery',\n",
       "   'acquired_year': 2013,\n",
       "   'acquired_month': 4,\n",
       "   'acquired_day': 17,\n",
       "   'acquiring_company': {'name': 'Intel', 'permalink': 'intel'}}}]"
      ]
     },
     "execution_count": 7,
     "metadata": {},
     "output_type": "execute_result"
    }
   ],
   "source": [
    "proj ={\"name\":1, \"acquisition\":1,\"founded_year\":1, \"_id\":0}\n",
    "cond1 ={\"acquisition.acquired_year\":{\"$gte\": 2011}}\n",
    "cond2 ={\"founded_year\": {\"$gte\": 2000}}\n",
    "cond3 = {\"founded_year\": {\"$lt\": 2010}}\n",
    "list(c.find({\"$and\":[cond1,cond2,cond3]},proj).limit(10))"
   ]
  },
  {
   "cell_type": "markdown",
   "metadata": {},
   "source": [
    "### 20. All the companies that have been 'deadpooled' after the third year."
   ]
  },
  {
   "cell_type": "code",
   "execution_count": null,
   "metadata": {},
   "outputs": [],
   "source": [
    "# Your Code"
   ]
  }
 ],
 "metadata": {
  "kernelspec": {
   "display_name": "Python 3 (ipykernel)",
   "language": "python",
   "name": "python3"
  },
  "language_info": {
   "codemirror_mode": {
    "name": "ipython",
    "version": 3
   },
   "file_extension": ".py",
   "mimetype": "text/x-python",
   "name": "python",
   "nbconvert_exporter": "python",
   "pygments_lexer": "ipython3",
   "version": "3.8.10"
  }
 },
 "nbformat": 4,
 "nbformat_minor": 2
}
